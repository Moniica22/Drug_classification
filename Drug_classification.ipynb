{
 "cells": [
  {
   "cell_type": "markdown",
   "id": "7f52a7be-0f24-4e01-93ae-35fec411a2df",
   "metadata": {},
   "source": [
    "# Drug Classification"
   ]
  },
  {
   "cell_type": "code",
   "execution_count": 255,
   "id": "8ff3ff38-1ded-4ee3-b730-fc0734aee53f",
   "metadata": {},
   "outputs": [],
   "source": [
    "import pandas as pd\n",
    "import matplotlib.pyplot as plt\n",
    "import seaborn as sns\n",
    "\n",
    "from sklearn.model_selection import train_test_split, cross_val_score, StratifiedKFold, GridSearchCV\n",
    "from sklearn.preprocessing import StandardScaler, OneHotEncoder, MinMaxScaler\n",
    "from sklearn.compose import ColumnTransformer\n",
    "\n",
    "from sklearn.pipeline import Pipeline\n",
    "from sklearn.neighbors import KNeighborsClassifier\n",
    "from sklearn.linear_model import LogisticRegression\n",
    "from sklearn.tree import DecisionTreeClassifier\n",
    "from sklearn.svm import SVC\n",
    "from sklearn.ensemble import RandomForestClassifier\n",
    "from sklearn.metrics import confusion_matrix, classification_report, accuracy_score, ConfusionMatrixDisplay"
   ]
  },
  {
   "cell_type": "markdown",
   "id": "ece9554c-2d01-43ed-a042-65c279225fcd",
   "metadata": {},
   "source": [
    "## 1. Data Exploration"
   ]
  },
  {
   "cell_type": "code",
   "execution_count": 80,
   "id": "7371042b-3953-457b-8398-d03008c9a635",
   "metadata": {},
   "outputs": [
    {
     "data": {
      "text/html": [
       "<div>\n",
       "<style scoped>\n",
       "    .dataframe tbody tr th:only-of-type {\n",
       "        vertical-align: middle;\n",
       "    }\n",
       "\n",
       "    .dataframe tbody tr th {\n",
       "        vertical-align: top;\n",
       "    }\n",
       "\n",
       "    .dataframe thead th {\n",
       "        text-align: right;\n",
       "    }\n",
       "</style>\n",
       "<table border=\"1\" class=\"dataframe\">\n",
       "  <thead>\n",
       "    <tr style=\"text-align: right;\">\n",
       "      <th></th>\n",
       "      <th>Age</th>\n",
       "      <th>Sex</th>\n",
       "      <th>BP</th>\n",
       "      <th>Cholesterol</th>\n",
       "      <th>Na</th>\n",
       "      <th>K</th>\n",
       "      <th>Drug</th>\n",
       "    </tr>\n",
       "  </thead>\n",
       "  <tbody>\n",
       "    <tr>\n",
       "      <th>0</th>\n",
       "      <td>23</td>\n",
       "      <td>F</td>\n",
       "      <td>HIGH</td>\n",
       "      <td>HIGH</td>\n",
       "      <td>0.792535</td>\n",
       "      <td>0.031258</td>\n",
       "      <td>drugY</td>\n",
       "    </tr>\n",
       "    <tr>\n",
       "      <th>1</th>\n",
       "      <td>47</td>\n",
       "      <td>M</td>\n",
       "      <td>LOW</td>\n",
       "      <td>HIGH</td>\n",
       "      <td>0.739309</td>\n",
       "      <td>0.056468</td>\n",
       "      <td>drugC</td>\n",
       "    </tr>\n",
       "    <tr>\n",
       "      <th>2</th>\n",
       "      <td>47</td>\n",
       "      <td>M</td>\n",
       "      <td>LOW</td>\n",
       "      <td>HIGH</td>\n",
       "      <td>0.697269</td>\n",
       "      <td>0.068944</td>\n",
       "      <td>drugC</td>\n",
       "    </tr>\n",
       "    <tr>\n",
       "      <th>3</th>\n",
       "      <td>28</td>\n",
       "      <td>F</td>\n",
       "      <td>NORMAL</td>\n",
       "      <td>HIGH</td>\n",
       "      <td>0.563682</td>\n",
       "      <td>0.072289</td>\n",
       "      <td>drugX</td>\n",
       "    </tr>\n",
       "    <tr>\n",
       "      <th>4</th>\n",
       "      <td>61</td>\n",
       "      <td>F</td>\n",
       "      <td>LOW</td>\n",
       "      <td>HIGH</td>\n",
       "      <td>0.559294</td>\n",
       "      <td>0.030998</td>\n",
       "      <td>drugY</td>\n",
       "    </tr>\n",
       "  </tbody>\n",
       "</table>\n",
       "</div>"
      ],
      "text/plain": [
       "   Age Sex      BP Cholesterol        Na         K   Drug\n",
       "0   23   F    HIGH        HIGH  0.792535  0.031258  drugY\n",
       "1   47   M     LOW        HIGH  0.739309  0.056468  drugC\n",
       "2   47   M     LOW        HIGH  0.697269  0.068944  drugC\n",
       "3   28   F  NORMAL        HIGH  0.563682  0.072289  drugX\n",
       "4   61   F     LOW        HIGH  0.559294  0.030998  drugY"
      ]
     },
     "execution_count": 80,
     "metadata": {},
     "output_type": "execute_result"
    }
   ],
   "source": [
    "df = pd.read_csv('Drug.csv')\n",
    "df.head()"
   ]
  },
  {
   "cell_type": "markdown",
   "id": "203dd7a3-6031-4105-b45f-d584fe70ff6d",
   "metadata": {},
   "source": [
    "Features description from each patient:\n",
    "- Age\n",
    "- Sex\n",
    "- BP: Blood Pressure\n",
    "- Cholesterol\n",
    "- Na: Sodium level of patient experiment.\n",
    "- K: Potassium level of patient experiment.\n",
    "- Type of Drug that prescribed with doctor."
   ]
  },
  {
   "cell_type": "code",
   "execution_count": 82,
   "id": "4c6af9f5-877a-4ea2-bf0b-636cf28b5bc1",
   "metadata": {},
   "outputs": [
    {
     "name": "stdout",
     "output_type": "stream",
     "text": [
      "<class 'pandas.core.frame.DataFrame'>\n",
      "RangeIndex: 200 entries, 0 to 199\n",
      "Data columns (total 7 columns):\n",
      " #   Column       Non-Null Count  Dtype  \n",
      "---  ------       --------------  -----  \n",
      " 0   Age          200 non-null    int64  \n",
      " 1   Sex          200 non-null    object \n",
      " 2   BP           200 non-null    object \n",
      " 3   Cholesterol  200 non-null    object \n",
      " 4   Na           200 non-null    float64\n",
      " 5   K            200 non-null    float64\n",
      " 6   Drug         200 non-null    object \n",
      "dtypes: float64(2), int64(1), object(4)\n",
      "memory usage: 11.1+ KB\n"
     ]
    }
   ],
   "source": [
    "df.info()"
   ]
  },
  {
   "cell_type": "code",
   "execution_count": 83,
   "id": "123417b3-a446-4e4f-9f81-d14c27322160",
   "metadata": {},
   "outputs": [
    {
     "data": {
      "text/html": [
       "<div>\n",
       "<style scoped>\n",
       "    .dataframe tbody tr th:only-of-type {\n",
       "        vertical-align: middle;\n",
       "    }\n",
       "\n",
       "    .dataframe tbody tr th {\n",
       "        vertical-align: top;\n",
       "    }\n",
       "\n",
       "    .dataframe thead th {\n",
       "        text-align: right;\n",
       "    }\n",
       "</style>\n",
       "<table border=\"1\" class=\"dataframe\">\n",
       "  <thead>\n",
       "    <tr style=\"text-align: right;\">\n",
       "      <th></th>\n",
       "      <th>Age</th>\n",
       "      <th>Na</th>\n",
       "      <th>K</th>\n",
       "    </tr>\n",
       "  </thead>\n",
       "  <tbody>\n",
       "    <tr>\n",
       "      <th>count</th>\n",
       "      <td>200.000000</td>\n",
       "      <td>200.000000</td>\n",
       "      <td>200.000000</td>\n",
       "    </tr>\n",
       "    <tr>\n",
       "      <th>mean</th>\n",
       "      <td>44.315000</td>\n",
       "      <td>0.697095</td>\n",
       "      <td>0.050174</td>\n",
       "    </tr>\n",
       "    <tr>\n",
       "      <th>std</th>\n",
       "      <td>16.544315</td>\n",
       "      <td>0.118907</td>\n",
       "      <td>0.017611</td>\n",
       "    </tr>\n",
       "    <tr>\n",
       "      <th>min</th>\n",
       "      <td>15.000000</td>\n",
       "      <td>0.500169</td>\n",
       "      <td>0.020022</td>\n",
       "    </tr>\n",
       "    <tr>\n",
       "      <th>25%</th>\n",
       "      <td>31.000000</td>\n",
       "      <td>0.583887</td>\n",
       "      <td>0.035054</td>\n",
       "    </tr>\n",
       "    <tr>\n",
       "      <th>50%</th>\n",
       "      <td>45.000000</td>\n",
       "      <td>0.721853</td>\n",
       "      <td>0.049663</td>\n",
       "    </tr>\n",
       "    <tr>\n",
       "      <th>75%</th>\n",
       "      <td>58.000000</td>\n",
       "      <td>0.801494</td>\n",
       "      <td>0.066000</td>\n",
       "    </tr>\n",
       "    <tr>\n",
       "      <th>max</th>\n",
       "      <td>74.000000</td>\n",
       "      <td>0.896056</td>\n",
       "      <td>0.079788</td>\n",
       "    </tr>\n",
       "  </tbody>\n",
       "</table>\n",
       "</div>"
      ],
      "text/plain": [
       "              Age          Na           K\n",
       "count  200.000000  200.000000  200.000000\n",
       "mean    44.315000    0.697095    0.050174\n",
       "std     16.544315    0.118907    0.017611\n",
       "min     15.000000    0.500169    0.020022\n",
       "25%     31.000000    0.583887    0.035054\n",
       "50%     45.000000    0.721853    0.049663\n",
       "75%     58.000000    0.801494    0.066000\n",
       "max     74.000000    0.896056    0.079788"
      ]
     },
     "execution_count": 83,
     "metadata": {},
     "output_type": "execute_result"
    }
   ],
   "source": [
    "df.describe()"
   ]
  },
  {
   "cell_type": "code",
   "execution_count": 84,
   "id": "2d4e42d9-c0b0-4dd7-a4de-f86a38da987f",
   "metadata": {},
   "outputs": [
    {
     "data": {
      "text/plain": [
       "Index(['Age', 'Sex', 'BP', 'Cholesterol', 'Na', 'K', 'Drug'], dtype='object')"
      ]
     },
     "execution_count": 84,
     "metadata": {},
     "output_type": "execute_result"
    }
   ],
   "source": [
    "df.columns"
   ]
  },
  {
   "cell_type": "code",
   "execution_count": 85,
   "id": "d07b01b1-4243-4941-a613-17e4ef9f0b31",
   "metadata": {},
   "outputs": [
    {
     "data": {
      "text/plain": [
       "(200, 7)"
      ]
     },
     "execution_count": 85,
     "metadata": {},
     "output_type": "execute_result"
    }
   ],
   "source": [
    "df.shape"
   ]
  },
  {
   "cell_type": "markdown",
   "id": "b38554a8-23d2-4650-872b-821d15586783",
   "metadata": {},
   "source": [
    "How many null and duplicated values there are:"
   ]
  },
  {
   "cell_type": "code",
   "execution_count": 87,
   "id": "4df89779-91f6-4a4e-bd00-2b752d9d3c7c",
   "metadata": {},
   "outputs": [
    {
     "data": {
      "text/plain": [
       "Age            0\n",
       "Sex            0\n",
       "BP             0\n",
       "Cholesterol    0\n",
       "Na             0\n",
       "K              0\n",
       "Drug           0\n",
       "dtype: int64"
      ]
     },
     "execution_count": 87,
     "metadata": {},
     "output_type": "execute_result"
    }
   ],
   "source": [
    "df.isna().sum()"
   ]
  },
  {
   "cell_type": "code",
   "execution_count": 88,
   "id": "f42f7156-6f98-4074-be2d-c8a29e2bfc82",
   "metadata": {},
   "outputs": [
    {
     "data": {
      "text/plain": [
       "np.int64(0)"
      ]
     },
     "execution_count": 88,
     "metadata": {},
     "output_type": "execute_result"
    }
   ],
   "source": [
    "df.duplicated().sum()"
   ]
  },
  {
   "cell_type": "markdown",
   "id": "266eb641-2ae7-481b-9eed-ad91615796ce",
   "metadata": {},
   "source": [
    "### Analysis & Visualization"
   ]
  },
  {
   "cell_type": "markdown",
   "id": "bf1ce648-b09b-4069-b860-e29956c4915a",
   "metadata": {},
   "source": [
    "We start with the **numerical features distribution**: *Age*, *Na* and *Sodium*."
   ]
  },
  {
   "cell_type": "code",
   "execution_count": 91,
   "id": "6d1b68c3-9676-461d-b923-77e3080b56f0",
   "metadata": {},
   "outputs": [
    {
     "data": {
      "image/png": "[encoded data removed]",
      "text/plain": [
       "<Figure size 400x300 with 1 Axes>"
      ]
     },
     "metadata": {},
     "output_type": "display_data"
    }
   ],
   "source": [
    "plt.figure(figsize= (4,3))\n",
    "plt.hist(df['Age'], bins=15, edgecolor='black')\n",
    "plt.title('Age distribution')\n",
    "plt.xlabel('Age')\n",
    "plt.ylabel('Frequency')\n",
    "plt.show()"
   ]
  },
  {
   "cell_type": "code",
   "execution_count": 92,
   "id": "7c9ee65d-1495-4112-bf80-e6cf4a37d109",
   "metadata": {},
   "outputs": [
    {
     "data": {
      "image/png": "[encoded data removed]",
      "text/plain": [
       "<Figure size 400x300 with 1 Axes>"
      ]
     },
     "metadata": {},
     "output_type": "display_data"
    }
   ],
   "source": [
    "plt.figure(figsize= (4,3))\n",
    "plt.hist(df['Na'], bins=15, edgecolor='black')\n",
    "plt.title('Na distribution')\n",
    "plt.xlabel('Na')\n",
    "plt.ylabel('Frequency')\n",
    "plt.show()"
   ]
  },
  {
   "cell_type": "code",
   "execution_count": 93,
   "id": "e4dd756e-c561-43f4-beb7-7d5afa75fb4b",
   "metadata": {},
   "outputs": [
    {
     "data": {
      "image/png": "[encoded data removed]",
      "text/plain": [
       "<Figure size 400x300 with 1 Axes>"
      ]
     },
     "metadata": {},
     "output_type": "display_data"
    }
   ],
   "source": [
    "plt.figure(figsize= (4,3))\n",
    "plt.hist(df['K'], bins=15, edgecolor='black')\n",
    "#df['K'].plot(kind='hist', bins=15, edgecolor='black') Equivalent\n",
    "plt.title('Sodium distribution')\n",
    "plt.xlabel('Sodium')\n",
    "plt.ylabel('Frequency')\n",
    "plt.show()"
   ]
  },
  {
   "cell_type": "markdown",
   "id": "79ceaea0-0742-477d-afc4-8e5be59ab1a7",
   "metadata": {},
   "source": [
    "Now the **categorical features distribution**: *Drug*, *Sex*, *Blood Pressure* and *Cholesterol*."
   ]
  },
  {
   "cell_type": "code",
   "execution_count": 95,
   "id": "ed63113e-544a-4f27-bb69-ec5e611322ee",
   "metadata": {},
   "outputs": [
    {
     "data": {
      "text/plain": [
       "Drug\n",
       "drugY    91\n",
       "drugX    54\n",
       "drugA    23\n",
       "drugC    16\n",
       "drugB    16\n",
       "Name: count, dtype: int64"
      ]
     },
     "execution_count": 95,
     "metadata": {},
     "output_type": "execute_result"
    }
   ],
   "source": [
    "drug_counts = df['Drug'].value_counts()\n",
    "drug_counts"
   ]
  },
  {
   "cell_type": "code",
   "execution_count": 96,
   "id": "c5228ea6-85a2-4012-9408-2e271f423783",
   "metadata": {},
   "outputs": [
    {
     "data": {
      "image/png": "[encoded data removed]",
      "text/plain": [
       "<Figure size 400x300 with 1 Axes>"
      ]
     },
     "metadata": {},
     "output_type": "display_data"
    }
   ],
   "source": [
    "plt.figure(figsize= (4,3))\n",
    "plt.bar(drug_counts.index, drug_counts.values)\n",
    "#drug_counts.plot(kind='bar')\n",
    "plt.title('Drug type distribution')\n",
    "plt.xlabel('Drug type')\n",
    "plt.ylabel('Frequency')\n",
    "plt.show()"
   ]
  },
  {
   "cell_type": "code",
   "execution_count": 97,
   "id": "462b2e61-a15a-429c-ac90-6e9f3fe1ce56",
   "metadata": {},
   "outputs": [
    {
     "data": {
      "text/plain": [
       "Sex\n",
       "M    104\n",
       "F     96\n",
       "Name: count, dtype: int64"
      ]
     },
     "execution_count": 97,
     "metadata": {},
     "output_type": "execute_result"
    }
   ],
   "source": [
    "sex_counts = df['Sex'].value_counts()\n",
    "sex_counts"
   ]
  },
  {
   "cell_type": "code",
   "execution_count": 98,
   "id": "2f2aeabc-51f3-453a-875b-359509c00d19",
   "metadata": {},
   "outputs": [
    {
     "data": {
      "image/png": "[encoded data removed]",
      "text/plain": [
       "<Figure size 400x300 with 1 Axes>"
      ]
     },
     "metadata": {},
     "output_type": "display_data"
    }
   ],
   "source": [
    "plt.figure(figsize= (4,3))\n",
    "plt.bar(sex_counts.index, sex_counts.values)\n",
    "plt.title('Sex distribution')\n",
    "plt.xlabel('Sex')\n",
    "plt.ylabel('Frequency')\n",
    "plt.show()"
   ]
  },
  {
   "cell_type": "code",
   "execution_count": 99,
   "id": "8447fd9a-40d5-43c6-8748-b6c91d74d6d8",
   "metadata": {},
   "outputs": [
    {
     "data": {
      "text/plain": [
       "BP\n",
       "HIGH      77\n",
       "LOW       64\n",
       "NORMAL    59\n",
       "Name: count, dtype: int64"
      ]
     },
     "execution_count": 99,
     "metadata": {},
     "output_type": "execute_result"
    }
   ],
   "source": [
    "bp_counts = df['BP'].value_counts()\n",
    "bp_counts"
   ]
  },
  {
   "cell_type": "code",
   "execution_count": 100,
   "id": "8104a29d-6ad9-4327-b7fe-59be3d46b09a",
   "metadata": {},
   "outputs": [
    {
     "data": {
      "image/png": "[encoded data removed]",
      "text/plain": [
       "<Figure size 400x300 with 1 Axes>"
      ]
     },
     "metadata": {},
     "output_type": "display_data"
    }
   ],
   "source": [
    "plt.figure(figsize= (4,3))\n",
    "plt.bar(bp_counts.index, bp_counts.values)\n",
    "plt.title('Blood pressure distribution')\n",
    "plt.xlabel('Blood pressure')\n",
    "plt.ylabel('Frequency')\n",
    "plt.show()"
   ]
  },
  {
   "cell_type": "code",
   "execution_count": 101,
   "id": "55596802-3339-4ac4-81e5-45f2d269e9d4",
   "metadata": {},
   "outputs": [
    {
     "data": {
      "text/plain": [
       "Cholesterol\n",
       "HIGH      103\n",
       "NORMAL     97\n",
       "Name: count, dtype: int64"
      ]
     },
     "execution_count": 101,
     "metadata": {},
     "output_type": "execute_result"
    }
   ],
   "source": [
    "cholesterol_counts = df['Cholesterol'].value_counts()\n",
    "cholesterol_counts"
   ]
  },
  {
   "cell_type": "code",
   "execution_count": 102,
   "id": "28e74722-89e4-441e-be08-48e064242e02",
   "metadata": {},
   "outputs": [
    {
     "data": {
      "image/png": "[encoded data removed]",
      "text/plain": [
       "<Figure size 400x300 with 1 Axes>"
      ]
     },
     "metadata": {},
     "output_type": "display_data"
    }
   ],
   "source": [
    "plt.figure(figsize= (4,3))\n",
    "plt.bar(cholesterol_counts.index, cholesterol_counts.values)\n",
    "plt.title('Cholesterol distribution')\n",
    "plt.xlabel('Cholesterol')\n",
    "plt.ylabel('Frequency')\n",
    "plt.show()"
   ]
  },
  {
   "cell_type": "code",
   "execution_count": 103,
   "id": "94588b5a-9009-43cf-b0c1-63d32c2364a6",
   "metadata": {
    "scrolled": true
   },
   "outputs": [
    {
     "data": {
      "image/png": "[encoded data removed]",
      "text/plain": [
       "<Figure size 400x300 with 1 Axes>"
      ]
     },
     "metadata": {},
     "output_type": "display_data"
    }
   ],
   "source": [
    "# Boxplot for Na per drug\n",
    "plt.figure(figsize= (4,3))\n",
    "sns.boxplot(x='Drug', y='Na', data=df)\n",
    "plt.title('Na distribution for each drug')\n",
    "plt.ylabel('Na')\n",
    "plt.grid(True)\n",
    "plt.show()"
   ]
  },
  {
   "cell_type": "code",
   "execution_count": 104,
   "id": "0af93c36-122d-40b2-b3a5-e6f275195179",
   "metadata": {},
   "outputs": [
    {
     "data": {
      "image/png": "[encoded data removed]",
      "text/plain": [
       "<Figure size 400x300 with 1 Axes>"
      ]
     },
     "metadata": {},
     "output_type": "display_data"
    }
   ],
   "source": [
    "# Boxplot for K per drug\n",
    "plt.figure(figsize= (4,3))\n",
    "sns.boxplot(x='Drug', y='K', data=df)\n",
    "plt.title('Sodium distribution for each drug')\n",
    "plt.ylabel('K')\n",
    "plt.grid(True)\n",
    "plt.show()"
   ]
  },
  {
   "cell_type": "code",
   "execution_count": 105,
   "id": "f48510a2-d000-44be-86da-f5eb4928f4fc",
   "metadata": {},
   "outputs": [
    {
     "data": {
      "image/png": "[encoded data removed]",
      "text/plain": [
       "<Figure size 400x300 with 1 Axes>"
      ]
     },
     "metadata": {},
     "output_type": "display_data"
    }
   ],
   "source": [
    "# Boxplot for age per drug\n",
    "plt.figure(figsize= (4,3))\n",
    "sns.boxplot(x='Drug', y='Age', data=df)\n",
    "plt.title('Age distribution for each drug')\n",
    "plt.ylabel('Age')\n",
    "plt.grid(True)\n",
    "plt.show()"
   ]
  },
  {
   "cell_type": "code",
   "execution_count": 106,
   "id": "d6ec1312-b0d6-427c-a695-17a49b944632",
   "metadata": {},
   "outputs": [
    {
     "data": {
      "image/png": "[encoded data removed]",
      "text/plain": [
       "<Figure size 400x300 with 1 Axes>"
      ]
     },
     "metadata": {},
     "output_type": "display_data"
    },
    {
     "data": {
      "image/png": "[encoded data removed]",
      "text/plain": [
       "<Figure size 400x300 with 1 Axes>"
      ]
     },
     "metadata": {},
     "output_type": "display_data"
    },
    {
     "data": {
      "image/png": "[encoded data removed]",
      "text/plain": [
       "<Figure size 400x300 with 1 Axes>"
      ]
     },
     "metadata": {},
     "output_type": "display_data"
    }
   ],
   "source": [
    "plt.figure(figsize= (4,3))\n",
    "sns.countplot(x='Drug', hue='Sex', data=df)\n",
    "plt.title('Sex distribution for each drug')\n",
    "plt.show()\n",
    "\n",
    "plt.figure(figsize= (4,3))\n",
    "sns.countplot(x='Drug', hue='BP', data=df)\n",
    "plt.title('Blood pressure distribution for each drug')\n",
    "plt.show()\n",
    "\n",
    "plt.figure(figsize= (4,3))\n",
    "sns.countplot(x='Drug', hue='Cholesterol', data=df)\n",
    "plt.title('Cholesterol distribution for each drug')\n",
    "plt.show()"
   ]
  },
  {
   "cell_type": "markdown",
   "id": "52ce46f9-981b-4d9d-8eae-65d9765d8814",
   "metadata": {},
   "source": [
    "We see the **relation between numerical features** with the correlation matrix and its heatmap:"
   ]
  },
  {
   "cell_type": "code",
   "execution_count": 108,
   "id": "f0880393-7c89-498c-a553-0f64ad869e0c",
   "metadata": {},
   "outputs": [
    {
     "data": {
      "text/html": [
       "<div>\n",
       "<style scoped>\n",
       "    .dataframe tbody tr th:only-of-type {\n",
       "        vertical-align: middle;\n",
       "    }\n",
       "\n",
       "    .dataframe tbody tr th {\n",
       "        vertical-align: top;\n",
       "    }\n",
       "\n",
       "    .dataframe thead th {\n",
       "        text-align: right;\n",
       "    }\n",
       "</style>\n",
       "<table border=\"1\" class=\"dataframe\">\n",
       "  <thead>\n",
       "    <tr style=\"text-align: right;\">\n",
       "      <th></th>\n",
       "      <th>Age</th>\n",
       "      <th>Na</th>\n",
       "      <th>K</th>\n",
       "    </tr>\n",
       "  </thead>\n",
       "  <tbody>\n",
       "    <tr>\n",
       "      <th>Age</th>\n",
       "      <td>1.000000</td>\n",
       "      <td>0.100371</td>\n",
       "      <td>0.111491</td>\n",
       "    </tr>\n",
       "    <tr>\n",
       "      <th>Na</th>\n",
       "      <td>0.100371</td>\n",
       "      <td>1.000000</td>\n",
       "      <td>0.017335</td>\n",
       "    </tr>\n",
       "    <tr>\n",
       "      <th>K</th>\n",
       "      <td>0.111491</td>\n",
       "      <td>0.017335</td>\n",
       "      <td>1.000000</td>\n",
       "    </tr>\n",
       "  </tbody>\n",
       "</table>\n",
       "</div>"
      ],
      "text/plain": [
       "          Age        Na         K\n",
       "Age  1.000000  0.100371  0.111491\n",
       "Na   0.100371  1.000000  0.017335\n",
       "K    0.111491  0.017335  1.000000"
      ]
     },
     "execution_count": 108,
     "metadata": {},
     "output_type": "execute_result"
    }
   ],
   "source": [
    "df.corr(numeric_only=True)"
   ]
  },
  {
   "cell_type": "code",
   "execution_count": 109,
   "id": "71edb026-df25-47ed-9cc1-703caddef284",
   "metadata": {},
   "outputs": [
    {
     "data": {
      "image/png": "[encoded data removed]",
      "text/plain": [
       "<Figure size 500x400 with 2 Axes>"
      ]
     },
     "metadata": {},
     "output_type": "display_data"
    }
   ],
   "source": [
    "plt.figure(figsize=(5,4))\n",
    "sns.heatmap(df.corr(numeric_only=True), annot = True)\n",
    "plt.title('Correlation Matriz for Numerical Features')\n",
    "plt.show()"
   ]
  },
  {
   "cell_type": "code",
   "execution_count": 110,
   "id": "aa0e566c-6b0a-4450-91a0-60aebacaf55d",
   "metadata": {},
   "outputs": [
    {
     "data": {
      "text/html": [
       "<div>\n",
       "<style scoped>\n",
       "    .dataframe tbody tr th:only-of-type {\n",
       "        vertical-align: middle;\n",
       "    }\n",
       "\n",
       "    .dataframe tbody tr th {\n",
       "        vertical-align: top;\n",
       "    }\n",
       "\n",
       "    .dataframe thead th {\n",
       "        text-align: right;\n",
       "    }\n",
       "</style>\n",
       "<table border=\"1\" class=\"dataframe\">\n",
       "  <thead>\n",
       "    <tr style=\"text-align: right;\">\n",
       "      <th>Sex</th>\n",
       "      <th>F</th>\n",
       "      <th>M</th>\n",
       "    </tr>\n",
       "    <tr>\n",
       "      <th>Drug</th>\n",
       "      <th></th>\n",
       "      <th></th>\n",
       "    </tr>\n",
       "  </thead>\n",
       "  <tbody>\n",
       "    <tr>\n",
       "      <th>drugA</th>\n",
       "      <td>9</td>\n",
       "      <td>14</td>\n",
       "    </tr>\n",
       "    <tr>\n",
       "      <th>drugB</th>\n",
       "      <td>6</td>\n",
       "      <td>10</td>\n",
       "    </tr>\n",
       "    <tr>\n",
       "      <th>drugC</th>\n",
       "      <td>7</td>\n",
       "      <td>9</td>\n",
       "    </tr>\n",
       "    <tr>\n",
       "      <th>drugX</th>\n",
       "      <td>27</td>\n",
       "      <td>27</td>\n",
       "    </tr>\n",
       "    <tr>\n",
       "      <th>drugY</th>\n",
       "      <td>47</td>\n",
       "      <td>44</td>\n",
       "    </tr>\n",
       "  </tbody>\n",
       "</table>\n",
       "</div>"
      ],
      "text/plain": [
       "Sex     F   M\n",
       "Drug         \n",
       "drugA   9  14\n",
       "drugB   6  10\n",
       "drugC   7   9\n",
       "drugX  27  27\n",
       "drugY  47  44"
      ]
     },
     "execution_count": 110,
     "metadata": {},
     "output_type": "execute_result"
    }
   ],
   "source": [
    "cross_sex = pd.crosstab(df['Drug'], df['Sex'])\n",
    "cross_sex"
   ]
  },
  {
   "cell_type": "markdown",
   "id": "323d628e-9c40-4a7e-8538-057543a66691",
   "metadata": {},
   "source": [
    "## 2. Data Preprocessing"
   ]
  },
  {
   "cell_type": "markdown",
   "id": "73b0e179-6359-4146-9a65-b27e20e7828d",
   "metadata": {},
   "source": [
    "### Define the input (features) and output (target):"
   ]
  },
  {
   "cell_type": "code",
   "execution_count": 211,
   "id": "2e43d1a5-73c0-4ed7-b2a7-ffa5f0537f66",
   "metadata": {},
   "outputs": [
    {
     "data": {
      "text/plain": [
       "(     Age Sex      BP Cholesterol        Na         K\n",
       " 0     23   F    HIGH        HIGH  0.792535  0.031258\n",
       " 1     47   M     LOW        HIGH  0.739309  0.056468\n",
       " 2     47   M     LOW        HIGH  0.697269  0.068944\n",
       " 3     28   F  NORMAL        HIGH  0.563682  0.072289\n",
       " 4     61   F     LOW        HIGH  0.559294  0.030998\n",
       " ..   ...  ..     ...         ...       ...       ...\n",
       " 195   56   F     LOW        HIGH  0.848774  0.073380\n",
       " 196   16   M     LOW        HIGH  0.743021  0.061886\n",
       " 197   52   M  NORMAL        HIGH  0.549945  0.055581\n",
       " 198   23   M  NORMAL      NORMAL  0.784520  0.055959\n",
       " 199   40   F     LOW      NORMAL  0.683503  0.060226\n",
       " \n",
       " [200 rows x 6 columns],\n",
       " 0      drugY\n",
       " 1      drugC\n",
       " 2      drugC\n",
       " 3      drugX\n",
       " 4      drugY\n",
       "        ...  \n",
       " 195    drugC\n",
       " 196    drugC\n",
       " 197    drugX\n",
       " 198    drugX\n",
       " 199    drugX\n",
       " Name: Drug, Length: 200, dtype: object)"
      ]
     },
     "execution_count": 211,
     "metadata": {},
     "output_type": "execute_result"
    }
   ],
   "source": [
    "X = df.drop('Drug', axis = 1)\n",
    "y = df['Drug'] \n",
    "X,y"
   ]
  },
  {
   "cell_type": "markdown",
   "id": "cc449d13-a2b9-420c-b16a-8cf480b99167",
   "metadata": {},
   "source": [
    "### Training & Testing"
   ]
  },
  {
   "cell_type": "code",
   "execution_count": 213,
   "id": "94c14e03-b44a-4824-b0e2-edc6a92f5ada",
   "metadata": {},
   "outputs": [],
   "source": [
    "x_train, x_test, y_train, y_test = train_test_split(X, y, test_size = 0.2, random_state = 42)"
   ]
  },
  {
   "cell_type": "markdown",
   "id": "e04fdc80-3e58-4b5b-97b5-30f75322586a",
   "metadata": {},
   "source": [
    "We convert categorical variables into a numerical format, binory values. Also we apply standard scaling to numerical vairables to normalize the data."
   ]
  },
  {
   "cell_type": "code",
   "execution_count": 117,
   "id": "340359fd-feaf-437f-9f11-2db8eaaefce4",
   "metadata": {},
   "outputs": [],
   "source": [
    "categorical_cols = ['Sex', 'BP', 'Cholesterol']\n",
    "numerical_cols = ['Age', 'Na', 'K']\n",
    "preprocessor = ColumnTransformer( # Column transformer\n",
    "    transformers=[\n",
    "        ('num', StandardScaler(), numerical_cols),\n",
    "        ('cat', OneHotEncoder(), categorical_cols)\n",
    "    ])\n",
    "\n",
    "# Fitting the transformer\n",
    "#x_train_processed = preprocessor.fit_transform(x_train)\n",
    "#x_test_processed = preprocessor.transform(x_test)"
   ]
  },
  {
   "cell_type": "markdown",
   "id": "7159761e-b457-4195-bb29-980eb4757c32",
   "metadata": {},
   "source": [
    "## 3. ML Models"
   ]
  },
  {
   "cell_type": "markdown",
   "id": "36a36a1c-e559-436a-95e8-f650f220c8e5",
   "metadata": {},
   "source": [
    "We will train 4 ML models:\n",
    "- Logistic Regression\n",
    "- Decision Trees\n",
    "- K-Nearest Neighbors (KNN)\n",
    "- Support Vector Machines (SVM)"
   ]
  },
  {
   "cell_type": "markdown",
   "id": "beaaa125-7142-4405-b7d8-15722989a82b",
   "metadata": {},
   "source": [
    "### Pipelines of candidates"
   ]
  },
  {
   "cell_type": "code",
   "execution_count": 233,
   "id": "0b9df03a-adb7-4a24-b848-5ca2d16018fc",
   "metadata": {},
   "outputs": [],
   "source": [
    "pipe_lr  = Pipeline([('pre', preprocessor), ('clf', LogisticRegression(max_iter=500, n_jobs=None))])\n",
    "pipe_svc = Pipeline([('pre', preprocessor), ('clf', SVC())])\n",
    "pipe_knn = Pipeline([('pre', preprocessor), ('clf', KNeighborsClassifier())])\n",
    "pipe_dt  = Pipeline([('pre', preprocessor), ('clf', DecisionTreeClassifier(random_state=42))])\n",
    "pipe_rf  = Pipeline([('pre', preprocessor), ('clf', RandomForestClassifier(random_state=42))])\n",
    "\n",
    "models = {\n",
    "    'LogisticRegression': pipe_lr,\n",
    "    'SVC': pipe_svc,\n",
    "    'KNN': pipe_knn,\n",
    "    'DecisionTree': pipe_dt,\n",
    "    'RandomForest': pipe_rf\n",
    "}"
   ]
  },
  {
   "cell_type": "markdown",
   "id": "ed5b0bef-6d4d-4952-8f6a-677604dbac41",
   "metadata": {},
   "source": [
    "### Cross Validation comparation"
   ]
  },
  {
   "cell_type": "markdown",
   "id": "fba5bee1-ce19-4eb2-a853-48c5c5fe15c7",
   "metadata": {},
   "source": [
    "We test the model on multiple splits to confirm the result is not just by chance. Data is split into 5 folds, trained and tested. "
   ]
  },
  {
   "cell_type": "code",
   "execution_count": 237,
   "id": "9bdfc183-c9e1-4faa-a340-aae93ad1c732",
   "metadata": {},
   "outputs": [
    {
     "data": {
      "text/html": [
       "<div>\n",
       "<style scoped>\n",
       "    .dataframe tbody tr th:only-of-type {\n",
       "        vertical-align: middle;\n",
       "    }\n",
       "\n",
       "    .dataframe tbody tr th {\n",
       "        vertical-align: top;\n",
       "    }\n",
       "\n",
       "    .dataframe thead th {\n",
       "        text-align: right;\n",
       "    }\n",
       "</style>\n",
       "<table border=\"1\" class=\"dataframe\">\n",
       "  <thead>\n",
       "    <tr style=\"text-align: right;\">\n",
       "      <th></th>\n",
       "      <th>model</th>\n",
       "      <th>cv_mean</th>\n",
       "      <th>cv_std</th>\n",
       "    </tr>\n",
       "  </thead>\n",
       "  <tbody>\n",
       "    <tr>\n",
       "      <th>0</th>\n",
       "      <td>LogisticRegression</td>\n",
       "      <td>0.955</td>\n",
       "      <td>0.040000</td>\n",
       "    </tr>\n",
       "    <tr>\n",
       "      <th>1</th>\n",
       "      <td>SVC</td>\n",
       "      <td>0.925</td>\n",
       "      <td>0.041833</td>\n",
       "    </tr>\n",
       "    <tr>\n",
       "      <th>2</th>\n",
       "      <td>RandomForest</td>\n",
       "      <td>0.910</td>\n",
       "      <td>0.056125</td>\n",
       "    </tr>\n",
       "    <tr>\n",
       "      <th>3</th>\n",
       "      <td>DecisionTree</td>\n",
       "      <td>0.875</td>\n",
       "      <td>0.035355</td>\n",
       "    </tr>\n",
       "    <tr>\n",
       "      <th>4</th>\n",
       "      <td>KNN</td>\n",
       "      <td>0.860</td>\n",
       "      <td>0.025495</td>\n",
       "    </tr>\n",
       "  </tbody>\n",
       "</table>\n",
       "</div>"
      ],
      "text/plain": [
       "                model  cv_mean    cv_std\n",
       "0  LogisticRegression    0.955  0.040000\n",
       "1                 SVC    0.925  0.041833\n",
       "2        RandomForest    0.910  0.056125\n",
       "3        DecisionTree    0.875  0.035355\n",
       "4                 KNN    0.860  0.025495"
      ]
     },
     "execution_count": 237,
     "metadata": {},
     "output_type": "execute_result"
    }
   ],
   "source": [
    "cv = StratifiedKFold(n_splits=5, shuffle=True, random_state=42)\n",
    "\n",
    "rows = []\n",
    "for name, model in models.items():\n",
    "    scores = cross_val_score(model, X, y, cv=cv, scoring='accuracy', n_jobs=-1)\n",
    "    rows.append({'model': name, 'cv_mean': scores.mean(), 'cv_std': scores.std()})\n",
    "\n",
    "cv_table = pd.DataFrame(rows).sort_values('cv_mean', ascending = False).reset_index(drop=True)\n",
    "cv_table"
   ]
  },
  {
   "cell_type": "markdown",
   "id": "35d41510-8312-4d2b-95fa-72f43aaa4ca1",
   "metadata": {},
   "source": [
    "Based in the results, Logistic Regression is the model that best generalizes as it has the highest mean accuracy with a small standar deviation --> High accuracy and consistent results "
   ]
  },
  {
   "cell_type": "code",
   "execution_count": 245,
   "id": "df89010b-854f-406d-89d7-7e49d965d69a",
   "metadata": {},
   "outputs": [
    {
     "data": {
      "text/html": [
       "<style>#sk-container-id-6 {\n",
       "  /* Definition of color scheme common for light and dark mode */\n",
       "  --sklearn-color-text: #000;\n",
       "  --sklearn-color-text-muted: #666;\n",
       "  --sklearn-color-line: gray;\n",
       "  /* Definition of color scheme for unfitted estimators */\n",
       "  --sklearn-color-unfitted-level-0: #fff5e6;\n",
       "  --sklearn-color-unfitted-level-1: #f6e4d2;\n",
       "  --sklearn-color-unfitted-level-2: #ffe0b3;\n",
       "  --sklearn-color-unfitted-level-3: chocolate;\n",
       "  /* Definition of color scheme for fitted estimators */\n",
       "  --sklearn-color-fitted-level-0: #f0f8ff;\n",
       "  --sklearn-color-fitted-level-1: #d4ebff;\n",
       "  --sklearn-color-fitted-level-2: #b3dbfd;\n",
       "  --sklearn-color-fitted-level-3: cornflowerblue;\n",
       "\n",
       "  /* Specific color for light theme */\n",
       "  --sklearn-color-text-on-default-background: var(--sg-text-color, var(--theme-code-foreground, var(--jp-content-font-color1, black)));\n",
       "  --sklearn-color-background: var(--sg-background-color, var(--theme-background, var(--jp-layout-color0, white)));\n",
       "  --sklearn-color-border-box: var(--sg-text-color, var(--theme-code-foreground, var(--jp-content-font-color1, black)));\n",
       "  --sklearn-color-icon: #696969;\n",
       "\n",
       "  @media (prefers-color-scheme: dark) {\n",
       "    /* Redefinition of color scheme for dark theme */\n",
       "    --sklearn-color-text-on-default-background: var(--sg-text-color, var(--theme-code-foreground, var(--jp-content-font-color1, white)));\n",
       "    --sklearn-color-background: var(--sg-background-color, var(--theme-background, var(--jp-layout-color0, #111)));\n",
       "    --sklearn-color-border-box: var(--sg-text-color, var(--theme-code-foreground, var(--jp-content-font-color1, white)));\n",
       "    --sklearn-color-icon: #878787;\n",
       "  }\n",
       "}\n",
       "\n",
       "#sk-container-id-6 {\n",
       "  color: var(--sklearn-color-text);\n",
       "}\n",
       "\n",
       "#sk-container-id-6 pre {\n",
       "  padding: 0;\n",
       "}\n",
       "\n",
       "#sk-container-id-6 input.sk-hidden--visually {\n",
       "  border: 0;\n",
       "  clip: rect(1px 1px 1px 1px);\n",
       "  clip: rect(1px, 1px, 1px, 1px);\n",
       "  height: 1px;\n",
       "  margin: -1px;\n",
       "  overflow: hidden;\n",
       "  padding: 0;\n",
       "  position: absolute;\n",
       "  width: 1px;\n",
       "}\n",
       "\n",
       "#sk-container-id-6 div.sk-dashed-wrapped {\n",
       "  border: 1px dashed var(--sklearn-color-line);\n",
       "  margin: 0 0.4em 0.5em 0.4em;\n",
       "  box-sizing: border-box;\n",
       "  padding-bottom: 0.4em;\n",
       "  background-color: var(--sklearn-color-background);\n",
       "}\n",
       "\n",
       "#sk-container-id-6 div.sk-container {\n",
       "  /* jupyter's `normalize.less` sets `[hidden] { display: none; }`\n",
       "     but bootstrap.min.css set `[hidden] { display: none !important; }`\n",
       "     so we also need the `!important` here to be able to override the\n",
       "     default hidden behavior on the sphinx rendered scikit-learn.org.\n",
       "     See: https://github.com/scikit-learn/scikit-learn/issues/21755 */\n",
       "  display: inline-block !important;\n",
       "  position: relative;\n",
       "}\n",
       "\n",
       "#sk-container-id-6 div.sk-text-repr-fallback {\n",
       "  display: none;\n",
       "}\n",
       "\n",
       "div.sk-parallel-item,\n",
       "div.sk-serial,\n",
       "div.sk-item {\n",
       "  /* draw centered vertical line to link estimators */\n",
       "  background-image: linear-gradient(var(--sklearn-color-text-on-default-background), var(--sklearn-color-text-on-default-background));\n",
       "  background-size: 2px 100%;\n",
       "  background-repeat: no-repeat;\n",
       "  background-position: center center;\n",
       "}\n",
       "\n",
       "/* Parallel-specific style estimator block */\n",
       "\n",
       "#sk-container-id-6 div.sk-parallel-item::after {\n",
       "  content: \"\";\n",
       "  width: 100%;\n",
       "  border-bottom: 2px solid var(--sklearn-color-text-on-default-background);\n",
       "  flex-grow: 1;\n",
       "}\n",
       "\n",
       "#sk-container-id-6 div.sk-parallel {\n",
       "  display: flex;\n",
       "  align-items: stretch;\n",
       "  justify-content: center;\n",
       "  background-color: var(--sklearn-color-background);\n",
       "  position: relative;\n",
       "}\n",
       "\n",
       "#sk-container-id-6 div.sk-parallel-item {\n",
       "  display: flex;\n",
       "  flex-direction: column;\n",
       "}\n",
       "\n",
       "#sk-container-id-6 div.sk-parallel-item:first-child::after {\n",
       "  align-self: flex-end;\n",
       "  width: 50%;\n",
       "}\n",
       "\n",
       "#sk-container-id-6 div.sk-parallel-item:last-child::after {\n",
       "  align-self: flex-start;\n",
       "  width: 50%;\n",
       "}\n",
       "\n",
       "#sk-container-id-6 div.sk-parallel-item:only-child::after {\n",
       "  width: 0;\n",
       "}\n",
       "\n",
       "/* Serial-specific style estimator block */\n",
       "\n",
       "#sk-container-id-6 div.sk-serial {\n",
       "  display: flex;\n",
       "  flex-direction: column;\n",
       "  align-items: center;\n",
       "  background-color: var(--sklearn-color-background);\n",
       "  padding-right: 1em;\n",
       "  padding-left: 1em;\n",
       "}\n",
       "\n",
       "\n",
       "/* Toggleable style: style used for estimator/Pipeline/ColumnTransformer box that is\n",
       "clickable and can be expanded/collapsed.\n",
       "- Pipeline and ColumnTransformer use this feature and define the default style\n",
       "- Estimators will overwrite some part of the style using the `sk-estimator` class\n",
       "*/\n",
       "\n",
       "/* Pipeline and ColumnTransformer style (default) */\n",
       "\n",
       "#sk-container-id-6 div.sk-toggleable {\n",
       "  /* Default theme specific background. It is overwritten whether we have a\n",
       "  specific estimator or a Pipeline/ColumnTransformer */\n",
       "  background-color: var(--sklearn-color-background);\n",
       "}\n",
       "\n",
       "/* Toggleable label */\n",
       "#sk-container-id-6 label.sk-toggleable__label {\n",
       "  cursor: pointer;\n",
       "  display: flex;\n",
       "  width: 100%;\n",
       "  margin-bottom: 0;\n",
       "  padding: 0.5em;\n",
       "  box-sizing: border-box;\n",
       "  text-align: center;\n",
       "  align-items: start;\n",
       "  justify-content: space-between;\n",
       "  gap: 0.5em;\n",
       "}\n",
       "\n",
       "#sk-container-id-6 label.sk-toggleable__label .caption {\n",
       "  font-size: 0.6rem;\n",
       "  font-weight: lighter;\n",
       "  color: var(--sklearn-color-text-muted);\n",
       "}\n",
       "\n",
       "#sk-container-id-6 label.sk-toggleable__label-arrow:before {\n",
       "  /* Arrow on the left of the label */\n",
       "  content: \"▸\";\n",
       "  float: left;\n",
       "  margin-right: 0.25em;\n",
       "  color: var(--sklearn-color-icon);\n",
       "}\n",
       "\n",
       "#sk-container-id-6 label.sk-toggleable__label-arrow:hover:before {\n",
       "  color: var(--sklearn-color-text);\n",
       "}\n",
       "\n",
       "/* Toggleable content - dropdown */\n",
       "\n",
       "#sk-container-id-6 div.sk-toggleable__content {\n",
       "  max-height: 0;\n",
       "  max-width: 0;\n",
       "  overflow: hidden;\n",
       "  text-align: left;\n",
       "  /* unfitted */\n",
       "  background-color: var(--sklearn-color-unfitted-level-0);\n",
       "}\n",
       "\n",
       "#sk-container-id-6 div.sk-toggleable__content.fitted {\n",
       "  /* fitted */\n",
       "  background-color: var(--sklearn-color-fitted-level-0);\n",
       "}\n",
       "\n",
       "#sk-container-id-6 div.sk-toggleable__content pre {\n",
       "  margin: 0.2em;\n",
       "  border-radius: 0.25em;\n",
       "  color: var(--sklearn-color-text);\n",
       "  /* unfitted */\n",
       "  background-color: var(--sklearn-color-unfitted-level-0);\n",
       "}\n",
       "\n",
       "#sk-container-id-6 div.sk-toggleable__content.fitted pre {\n",
       "  /* unfitted */\n",
       "  background-color: var(--sklearn-color-fitted-level-0);\n",
       "}\n",
       "\n",
       "#sk-container-id-6 input.sk-toggleable__control:checked~div.sk-toggleable__content {\n",
       "  /* Expand drop-down */\n",
       "  max-height: 200px;\n",
       "  max-width: 100%;\n",
       "  overflow: auto;\n",
       "}\n",
       "\n",
       "#sk-container-id-6 input.sk-toggleable__control:checked~label.sk-toggleable__label-arrow:before {\n",
       "  content: \"▾\";\n",
       "}\n",
       "\n",
       "/* Pipeline/ColumnTransformer-specific style */\n",
       "\n",
       "#sk-container-id-6 div.sk-label input.sk-toggleable__control:checked~label.sk-toggleable__label {\n",
       "  color: var(--sklearn-color-text);\n",
       "  background-color: var(--sklearn-color-unfitted-level-2);\n",
       "}\n",
       "\n",
       "#sk-container-id-6 div.sk-label.fitted input.sk-toggleable__control:checked~label.sk-toggleable__label {\n",
       "  background-color: var(--sklearn-color-fitted-level-2);\n",
       "}\n",
       "\n",
       "/* Estimator-specific style */\n",
       "\n",
       "/* Colorize estimator box */\n",
       "#sk-container-id-6 div.sk-estimator input.sk-toggleable__control:checked~label.sk-toggleable__label {\n",
       "  /* unfitted */\n",
       "  background-color: var(--sklearn-color-unfitted-level-2);\n",
       "}\n",
       "\n",
       "#sk-container-id-6 div.sk-estimator.fitted input.sk-toggleable__control:checked~label.sk-toggleable__label {\n",
       "  /* fitted */\n",
       "  background-color: var(--sklearn-color-fitted-level-2);\n",
       "}\n",
       "\n",
       "#sk-container-id-6 div.sk-label label.sk-toggleable__label,\n",
       "#sk-container-id-6 div.sk-label label {\n",
       "  /* The background is the default theme color */\n",
       "  color: var(--sklearn-color-text-on-default-background);\n",
       "}\n",
       "\n",
       "/* On hover, darken the color of the background */\n",
       "#sk-container-id-6 div.sk-label:hover label.sk-toggleable__label {\n",
       "  color: var(--sklearn-color-text);\n",
       "  background-color: var(--sklearn-color-unfitted-level-2);\n",
       "}\n",
       "\n",
       "/* Label box, darken color on hover, fitted */\n",
       "#sk-container-id-6 div.sk-label.fitted:hover label.sk-toggleable__label.fitted {\n",
       "  color: var(--sklearn-color-text);\n",
       "  background-color: var(--sklearn-color-fitted-level-2);\n",
       "}\n",
       "\n",
       "/* Estimator label */\n",
       "\n",
       "#sk-container-id-6 div.sk-label label {\n",
       "  font-family: monospace;\n",
       "  font-weight: bold;\n",
       "  display: inline-block;\n",
       "  line-height: 1.2em;\n",
       "}\n",
       "\n",
       "#sk-container-id-6 div.sk-label-container {\n",
       "  text-align: center;\n",
       "}\n",
       "\n",
       "/* Estimator-specific */\n",
       "#sk-container-id-6 div.sk-estimator {\n",
       "  font-family: monospace;\n",
       "  border: 1px dotted var(--sklearn-color-border-box);\n",
       "  border-radius: 0.25em;\n",
       "  box-sizing: border-box;\n",
       "  margin-bottom: 0.5em;\n",
       "  /* unfitted */\n",
       "  background-color: var(--sklearn-color-unfitted-level-0);\n",
       "}\n",
       "\n",
       "#sk-container-id-6 div.sk-estimator.fitted {\n",
       "  /* fitted */\n",
       "  background-color: var(--sklearn-color-fitted-level-0);\n",
       "}\n",
       "\n",
       "/* on hover */\n",
       "#sk-container-id-6 div.sk-estimator:hover {\n",
       "  /* unfitted */\n",
       "  background-color: var(--sklearn-color-unfitted-level-2);\n",
       "}\n",
       "\n",
       "#sk-container-id-6 div.sk-estimator.fitted:hover {\n",
       "  /* fitted */\n",
       "  background-color: var(--sklearn-color-fitted-level-2);\n",
       "}\n",
       "\n",
       "/* Specification for estimator info (e.g. \"i\" and \"?\") */\n",
       "\n",
       "/* Common style for \"i\" and \"?\" */\n",
       "\n",
       ".sk-estimator-doc-link,\n",
       "a:link.sk-estimator-doc-link,\n",
       "a:visited.sk-estimator-doc-link {\n",
       "  float: right;\n",
       "  font-size: smaller;\n",
       "  line-height: 1em;\n",
       "  font-family: monospace;\n",
       "  background-color: var(--sklearn-color-background);\n",
       "  border-radius: 1em;\n",
       "  height: 1em;\n",
       "  width: 1em;\n",
       "  text-decoration: none !important;\n",
       "  margin-left: 0.5em;\n",
       "  text-align: center;\n",
       "  /* unfitted */\n",
       "  border: var(--sklearn-color-unfitted-level-1) 1pt solid;\n",
       "  color: var(--sklearn-color-unfitted-level-1);\n",
       "}\n",
       "\n",
       ".sk-estimator-doc-link.fitted,\n",
       "a:link.sk-estimator-doc-link.fitted,\n",
       "a:visited.sk-estimator-doc-link.fitted {\n",
       "  /* fitted */\n",
       "  border: var(--sklearn-color-fitted-level-1) 1pt solid;\n",
       "  color: var(--sklearn-color-fitted-level-1);\n",
       "}\n",
       "\n",
       "/* On hover */\n",
       "div.sk-estimator:hover .sk-estimator-doc-link:hover,\n",
       ".sk-estimator-doc-link:hover,\n",
       "div.sk-label-container:hover .sk-estimator-doc-link:hover,\n",
       ".sk-estimator-doc-link:hover {\n",
       "  /* unfitted */\n",
       "  background-color: var(--sklearn-color-unfitted-level-3);\n",
       "  color: var(--sklearn-color-background);\n",
       "  text-decoration: none;\n",
       "}\n",
       "\n",
       "div.sk-estimator.fitted:hover .sk-estimator-doc-link.fitted:hover,\n",
       ".sk-estimator-doc-link.fitted:hover,\n",
       "div.sk-label-container:hover .sk-estimator-doc-link.fitted:hover,\n",
       ".sk-estimator-doc-link.fitted:hover {\n",
       "  /* fitted */\n",
       "  background-color: var(--sklearn-color-fitted-level-3);\n",
       "  color: var(--sklearn-color-background);\n",
       "  text-decoration: none;\n",
       "}\n",
       "\n",
       "/* Span, style for the box shown on hovering the info icon */\n",
       ".sk-estimator-doc-link span {\n",
       "  display: none;\n",
       "  z-index: 9999;\n",
       "  position: relative;\n",
       "  font-weight: normal;\n",
       "  right: .2ex;\n",
       "  padding: .5ex;\n",
       "  margin: .5ex;\n",
       "  width: min-content;\n",
       "  min-width: 20ex;\n",
       "  max-width: 50ex;\n",
       "  color: var(--sklearn-color-text);\n",
       "  box-shadow: 2pt 2pt 4pt #999;\n",
       "  /* unfitted */\n",
       "  background: var(--sklearn-color-unfitted-level-0);\n",
       "  border: .5pt solid var(--sklearn-color-unfitted-level-3);\n",
       "}\n",
       "\n",
       ".sk-estimator-doc-link.fitted span {\n",
       "  /* fitted */\n",
       "  background: var(--sklearn-color-fitted-level-0);\n",
       "  border: var(--sklearn-color-fitted-level-3);\n",
       "}\n",
       "\n",
       ".sk-estimator-doc-link:hover span {\n",
       "  display: block;\n",
       "}\n",
       "\n",
       "/* \"?\"-specific style due to the `<a>` HTML tag */\n",
       "\n",
       "#sk-container-id-6 a.estimator_doc_link {\n",
       "  float: right;\n",
       "  font-size: 1rem;\n",
       "  line-height: 1em;\n",
       "  font-family: monospace;\n",
       "  background-color: var(--sklearn-color-background);\n",
       "  border-radius: 1rem;\n",
       "  height: 1rem;\n",
       "  width: 1rem;\n",
       "  text-decoration: none;\n",
       "  /* unfitted */\n",
       "  color: var(--sklearn-color-unfitted-level-1);\n",
       "  border: var(--sklearn-color-unfitted-level-1) 1pt solid;\n",
       "}\n",
       "\n",
       "#sk-container-id-6 a.estimator_doc_link.fitted {\n",
       "  /* fitted */\n",
       "  border: var(--sklearn-color-fitted-level-1) 1pt solid;\n",
       "  color: var(--sklearn-color-fitted-level-1);\n",
       "}\n",
       "\n",
       "/* On hover */\n",
       "#sk-container-id-6 a.estimator_doc_link:hover {\n",
       "  /* unfitted */\n",
       "  background-color: var(--sklearn-color-unfitted-level-3);\n",
       "  color: var(--sklearn-color-background);\n",
       "  text-decoration: none;\n",
       "}\n",
       "\n",
       "#sk-container-id-6 a.estimator_doc_link.fitted:hover {\n",
       "  /* fitted */\n",
       "  background-color: var(--sklearn-color-fitted-level-3);\n",
       "}\n",
       "</style><div id=\"sk-container-id-6\" class=\"sk-top-container\"><div class=\"sk-text-repr-fallback\"><pre>Pipeline(steps=[(&#x27;pre&#x27;,\n",
       "                 ColumnTransformer(transformers=[(&#x27;num&#x27;, StandardScaler(),\n",
       "                                                  [&#x27;Age&#x27;, &#x27;Na&#x27;, &#x27;K&#x27;]),\n",
       "                                                 (&#x27;cat&#x27;, OneHotEncoder(),\n",
       "                                                  [&#x27;Sex&#x27;, &#x27;BP&#x27;,\n",
       "                                                   &#x27;Cholesterol&#x27;])])),\n",
       "                (&#x27;clf&#x27;, LogisticRegression(max_iter=500))])</pre><b>In a Jupyter environment, please rerun this cell to show the HTML representation or trust the notebook. <br />On GitHub, the HTML representation is unable to render, please try loading this page with nbviewer.org.</b></div><div class=\"sk-container\" hidden><div class=\"sk-item sk-dashed-wrapped\"><div class=\"sk-label-container\"><div class=\"sk-label fitted sk-toggleable\"><input class=\"sk-toggleable__control sk-hidden--visually\" id=\"sk-estimator-id-12\" type=\"checkbox\" ><label for=\"sk-estimator-id-12\" class=\"sk-toggleable__label fitted sk-toggleable__label-arrow\"><div><div>Pipeline</div></div><div><a class=\"sk-estimator-doc-link fitted\" rel=\"noreferrer\" target=\"_blank\" href=\"https://scikit-learn.org/1.6/modules/generated/sklearn.pipeline.Pipeline.html\">?<span>Documentation for Pipeline</span></a><span class=\"sk-estimator-doc-link fitted\">i<span>Fitted</span></span></div></label><div class=\"sk-toggleable__content fitted\"><pre>Pipeline(steps=[(&#x27;pre&#x27;,\n",
       "                 ColumnTransformer(transformers=[(&#x27;num&#x27;, StandardScaler(),\n",
       "                                                  [&#x27;Age&#x27;, &#x27;Na&#x27;, &#x27;K&#x27;]),\n",
       "                                                 (&#x27;cat&#x27;, OneHotEncoder(),\n",
       "                                                  [&#x27;Sex&#x27;, &#x27;BP&#x27;,\n",
       "                                                   &#x27;Cholesterol&#x27;])])),\n",
       "                (&#x27;clf&#x27;, LogisticRegression(max_iter=500))])</pre></div> </div></div><div class=\"sk-serial\"><div class=\"sk-item sk-dashed-wrapped\"><div class=\"sk-label-container\"><div class=\"sk-label fitted sk-toggleable\"><input class=\"sk-toggleable__control sk-hidden--visually\" id=\"sk-estimator-id-13\" type=\"checkbox\" ><label for=\"sk-estimator-id-13\" class=\"sk-toggleable__label fitted sk-toggleable__label-arrow\"><div><div>pre: ColumnTransformer</div></div><div><a class=\"sk-estimator-doc-link fitted\" rel=\"noreferrer\" target=\"_blank\" href=\"https://scikit-learn.org/1.6/modules/generated/sklearn.compose.ColumnTransformer.html\">?<span>Documentation for pre: ColumnTransformer</span></a></div></label><div class=\"sk-toggleable__content fitted\"><pre>ColumnTransformer(transformers=[(&#x27;num&#x27;, StandardScaler(), [&#x27;Age&#x27;, &#x27;Na&#x27;, &#x27;K&#x27;]),\n",
       "                                (&#x27;cat&#x27;, OneHotEncoder(),\n",
       "                                 [&#x27;Sex&#x27;, &#x27;BP&#x27;, &#x27;Cholesterol&#x27;])])</pre></div> </div></div><div class=\"sk-parallel\"><div class=\"sk-parallel-item\"><div class=\"sk-item\"><div class=\"sk-label-container\"><div class=\"sk-label fitted sk-toggleable\"><input class=\"sk-toggleable__control sk-hidden--visually\" id=\"sk-estimator-id-14\" type=\"checkbox\" ><label for=\"sk-estimator-id-14\" class=\"sk-toggleable__label fitted sk-toggleable__label-arrow\"><div><div>num</div></div></label><div class=\"sk-toggleable__content fitted\"><pre>[&#x27;Age&#x27;, &#x27;Na&#x27;, &#x27;K&#x27;]</pre></div> </div></div><div class=\"sk-serial\"><div class=\"sk-item\"><div class=\"sk-estimator fitted sk-toggleable\"><input class=\"sk-toggleable__control sk-hidden--visually\" id=\"sk-estimator-id-15\" type=\"checkbox\" ><label for=\"sk-estimator-id-15\" class=\"sk-toggleable__label fitted sk-toggleable__label-arrow\"><div><div>StandardScaler</div></div><div><a class=\"sk-estimator-doc-link fitted\" rel=\"noreferrer\" target=\"_blank\" href=\"https://scikit-learn.org/1.6/modules/generated/sklearn.preprocessing.StandardScaler.html\">?<span>Documentation for StandardScaler</span></a></div></label><div class=\"sk-toggleable__content fitted\"><pre>StandardScaler()</pre></div> </div></div></div></div></div><div class=\"sk-parallel-item\"><div class=\"sk-item\"><div class=\"sk-label-container\"><div class=\"sk-label fitted sk-toggleable\"><input class=\"sk-toggleable__control sk-hidden--visually\" id=\"sk-estimator-id-16\" type=\"checkbox\" ><label for=\"sk-estimator-id-16\" class=\"sk-toggleable__label fitted sk-toggleable__label-arrow\"><div><div>cat</div></div></label><div class=\"sk-toggleable__content fitted\"><pre>[&#x27;Sex&#x27;, &#x27;BP&#x27;, &#x27;Cholesterol&#x27;]</pre></div> </div></div><div class=\"sk-serial\"><div class=\"sk-item\"><div class=\"sk-estimator fitted sk-toggleable\"><input class=\"sk-toggleable__control sk-hidden--visually\" id=\"sk-estimator-id-17\" type=\"checkbox\" ><label for=\"sk-estimator-id-17\" class=\"sk-toggleable__label fitted sk-toggleable__label-arrow\"><div><div>OneHotEncoder</div></div><div><a class=\"sk-estimator-doc-link fitted\" rel=\"noreferrer\" target=\"_blank\" href=\"https://scikit-learn.org/1.6/modules/generated/sklearn.preprocessing.OneHotEncoder.html\">?<span>Documentation for OneHotEncoder</span></a></div></label><div class=\"sk-toggleable__content fitted\"><pre>OneHotEncoder()</pre></div> </div></div></div></div></div></div></div><div class=\"sk-item\"><div class=\"sk-estimator fitted sk-toggleable\"><input class=\"sk-toggleable__control sk-hidden--visually\" id=\"sk-estimator-id-18\" type=\"checkbox\" ><label for=\"sk-estimator-id-18\" class=\"sk-toggleable__label fitted sk-toggleable__label-arrow\"><div><div>LogisticRegression</div></div><div><a class=\"sk-estimator-doc-link fitted\" rel=\"noreferrer\" target=\"_blank\" href=\"https://scikit-learn.org/1.6/modules/generated/sklearn.linear_model.LogisticRegression.html\">?<span>Documentation for LogisticRegression</span></a></div></label><div class=\"sk-toggleable__content fitted\"><pre>LogisticRegression(max_iter=500)</pre></div> </div></div></div></div></div></div>"
      ],
      "text/plain": [
       "Pipeline(steps=[('pre',\n",
       "                 ColumnTransformer(transformers=[('num', StandardScaler(),\n",
       "                                                  ['Age', 'Na', 'K']),\n",
       "                                                 ('cat', OneHotEncoder(),\n",
       "                                                  ['Sex', 'BP',\n",
       "                                                   'Cholesterol'])])),\n",
       "                ('clf', LogisticRegression(max_iter=500))])"
      ]
     },
     "execution_count": 245,
     "metadata": {},
     "output_type": "execute_result"
    }
   ],
   "source": [
    "best_name = cv_table.iloc[0]['model']\n",
    "best_pipeline = models[best_name]\n",
    "\n",
    "best_pipeline.fit(x_train, y_train)"
   ]
  },
  {
   "cell_type": "code",
   "execution_count": 251,
   "id": "49302c7b-6a31-4a53-98b4-891460d73b97",
   "metadata": {},
   "outputs": [
    {
     "name": "stdout",
     "output_type": "stream",
     "text": [
      "Best by Cross Validation: LogisticRegression\n",
      "Test accuracy: 0.975\n",
      "Classification report: \n",
      "               precision    recall  f1-score   support\n",
      "\n",
      "       drugA       1.00      1.00      1.00         6\n",
      "       drugB       1.00      1.00      1.00         3\n",
      "       drugC       1.00      0.80      0.89         5\n",
      "       drugX       1.00      1.00      1.00        11\n",
      "       drugY       0.94      1.00      0.97        15\n",
      "\n",
      "    accuracy                           0.97        40\n",
      "   macro avg       0.99      0.96      0.97        40\n",
      "weighted avg       0.98      0.97      0.97        40\n",
      "\n"
     ]
    },
    {
     "data": {
      "image/png": "[encoded data removed]",
      "text/plain": [
       "<Figure size 640x480 with 2 Axes>"
      ]
     },
     "metadata": {},
     "output_type": "display_data"
    }
   ],
   "source": [
    "y_pred = best_pipeline.predict(x_test)\n",
    "\n",
    "print(f\"Best by Cross Validation: {best_name}\")\n",
    "print(f\"Test accuracy: {accuracy_score(y_test, y_pred)}\")\n",
    "print(\"Classification report: \\n\", classification_report(y_test, y_pred))\n",
    "\n",
    "ConfusionMatrixDisplay.from_estimator(best_pipeline, x_test, y_test)\n",
    "plt.show()"
   ]
  },
  {
   "cell_type": "markdown",
   "id": "7c3f88ef-c6b1-4467-b037-4709c2fc6b61",
   "metadata": {},
   "source": [
    "### Hyperparameter Tuning"
   ]
  },
  {
   "cell_type": "code",
   "execution_count": 259,
   "id": "c59ca25a-f26f-440a-9113-1fc0f3bcd55a",
   "metadata": {},
   "outputs": [
    {
     "name": "stdout",
     "output_type": "stream",
     "text": [
      "Best params (LR): {'clf__C': 10.0, 'clf__class_weight': None, 'clf__penalty': 'l2', 'clf__solver': 'lbfgs'}\n",
      "Best CV accuracy (LR): 0.95625\n",
      "Test accuracy (tuned LR): 1.0\n",
      "              precision    recall  f1-score   support\n",
      "\n",
      "       drugA       1.00      1.00      1.00         6\n",
      "       drugB       1.00      1.00      1.00         3\n",
      "       drugC       1.00      1.00      1.00         5\n",
      "       drugX       1.00      1.00      1.00        11\n",
      "       drugY       1.00      1.00      1.00        15\n",
      "\n",
      "    accuracy                           1.00        40\n",
      "   macro avg       1.00      1.00      1.00        40\n",
      "weighted avg       1.00      1.00      1.00        40\n",
      "\n"
     ]
    },
    {
     "data": {
      "image/png": "[encoded data removed]",
      "text/plain": [
       "<Figure size 640x480 with 2 Axes>"
      ]
     },
     "metadata": {},
     "output_type": "display_data"
    }
   ],
   "source": [
    "param_rid_lr = {\n",
    "    'clf__penalty': ['l2'],\n",
    "    'clf__C':[0.1, 1.0, 3.0, 10.0],\n",
    "    'clf__solver': ['lbfgs', 'liblinear'],\n",
    "    'clf__class_weight': [None, 'balanced']\n",
    "}\n",
    "# We clone the pipeline for every combination in the grid. For each combo it runs 5 fold CV.\n",
    "gs_lr = GridSearchCV(pipe_lr, param_rid_lr, cv=cv, scoring='accuracy', n_jobs=-1)\n",
    "gs_lr.fit(x_train, y_train) # All search is done on the training data\n",
    "\n",
    "print('Best params (LR):', gs_lr.best_params_)\n",
    "print('Best CV accuracy (LR):', gs_lr.best_score_)\n",
    "\n",
    "y_pred_gs = gs_lr.best_estimator_.predict(x_test)\n",
    "print(\"Test accuracy (tuned LR):\", accuracy_score(y_test, y_pred_gs))\n",
    "print(classification_report(y_test, y_pred_gs))\n",
    "ConfusionMatrixDisplay.from_estimator(gs_lr.best_estimator_, x_test, y_test); plt.show()\n",
    "\n",
    "# Updated pipeline with the best combination of parameters\n",
    "best_pipeline = gs_lr.best_estimator_  "
   ]
  },
  {
   "cell_type": "markdown",
   "id": "33c87daa-da5e-40f9-81b3-9d1c12e3a1c4",
   "metadata": {},
   "source": [
    "After hiperameter tuning, we see all predictions are correct."
   ]
  },
  {
   "cell_type": "markdown",
   "id": "fac5737b-18d7-4e60-b4cb-1939cfa14763",
   "metadata": {},
   "source": [
    "## 4. Interpretability"
   ]
  },
  {
   "cell_type": "code",
   "execution_count": 274,
   "id": "1a85488c-0de5-42df-847f-3634b24db9bb",
   "metadata": {},
   "outputs": [
    {
     "name": "stdout",
     "output_type": "stream",
     "text": [
      "\n",
      "Top features for class drugA:\n",
      "cat__BP_HIGH  coef=1.686\n",
      "num__K  coef=0.905\n",
      "num__Age  coef=-0.900\n",
      "cat__BP_LOW  coef=-0.861\n",
      "cat__BP_NORMAL  coef=-0.819\n",
      "num__Na  coef=-0.668\n",
      "cat__Sex_M  coef=0.097\n",
      "cat__Sex_F  coef=-0.090\n",
      "\n",
      "Top features for class drugB:\n",
      "cat__BP_HIGH  coef=1.483\n",
      "num__Age  coef=1.277\n",
      "cat__BP_LOW  coef=-0.821\n",
      "num__K  coef=0.712\n",
      "cat__BP_NORMAL  coef=-0.665\n",
      "num__Na  coef=0.166\n",
      "cat__Sex_M  coef=-0.097\n",
      "cat__Sex_F  coef=0.094\n",
      "\n",
      "Top features for class drugC:\n",
      "cat__BP_LOW  coef=1.608\n",
      "num__K  coef=1.090\n",
      "cat__Cholesterol_NORMAL  coef=-0.993\n",
      "cat__Cholesterol_HIGH  coef=0.990\n",
      "cat__BP_HIGH  coef=-0.855\n",
      "cat__BP_NORMAL  coef=-0.755\n",
      "num__Na  coef=-0.322\n",
      "num__Age  coef=-0.275\n",
      "\n",
      "Top features for class drugX:\n",
      "cat__BP_HIGH  coef=-2.075\n",
      "cat__BP_NORMAL  coef=1.881\n",
      "num__K  coef=0.820\n",
      "cat__Cholesterol_NORMAL  coef=0.768\n",
      "cat__Cholesterol_HIGH  coef=-0.761\n",
      "num__Na  coef=-0.645\n",
      "cat__Sex_F  coef=0.265\n",
      "cat__Sex_M  coef=-0.259\n",
      "\n",
      "Top features for class drugY:\n",
      "num__K  coef=-3.526\n",
      "num__Na  coef=1.468\n",
      "cat__BP_NORMAL  coef=0.358\n",
      "cat__Cholesterol_HIGH  coef=-0.271\n",
      "cat__Cholesterol_NORMAL  coef=0.264\n",
      "cat__BP_HIGH  coef=-0.239\n",
      "cat__Sex_F  coef=-0.134\n",
      "cat__Sex_M  coef=0.127\n"
     ]
    }
   ],
   "source": [
    "feature_names = best_pipeline.named_steps['pre'].get_feature_names_out()\n",
    "clf = best_pipeline.named_steps['clf']\n",
    "\n",
    "for i, cls in enumerate(clf.classes_):\n",
    "    coefs = clf.coef_[i]\n",
    "    top = np.argsort(np.abs(coefs))[::-1][:8]\n",
    "    print(f\"\\nTop features for class {cls}:\")\n",
    "    for j in top:\n",
    "        print(f\"{feature_names[j]}  coef={coefs[j]:.3f}\")"
   ]
  },
  {
   "cell_type": "markdown",
   "id": "8cdc18d2-dbd0-4a04-a2b4-c4e5f798a346",
   "metadata": {},
   "source": [
    "Conclusions:\n",
    "- **DrugA**: favors **High BP** and **higher K**, disfavored by **higher Na** and **older age**.\n",
    "- **DrugB**: favored by **High BP** and **older age**, disfavored by **Low BP** and **Normal BP**.\n",
    "- **DrugC**: favored by **Low BP** and **higher K**, disfavored by **normal cholesterol** and **High BP**.\n",
    "- **DrugX**: favored by **Normal BP** and **higher K**, disfavored by **high cholesterol** and **High BP**.\n",
    "- **DrugY**: favored by **higher Na**, disfavored by **higher K**."
   ]
  },
  {
   "cell_type": "code",
   "execution_count": 264,
   "id": "af67c3f0-0a8c-4956-a44b-66c1c9e912b0",
   "metadata": {},
   "outputs": [
    {
     "name": "stdout",
     "output_type": "stream",
     "text": [
      "\n",
      "Permutation importance (top 10):\n",
      "cat__BP_HIGH -> 0.4388\n",
      "num__K -> 0.3650\n",
      "cat__Sex_M -> 0.1850\n",
      "cat__Sex_F -> 0.1350\n",
      "num__Age -> 0.1050\n",
      "num__Na -> 0.0075\n"
     ]
    }
   ],
   "source": [
    "from sklearn.inspection import permutation_importance\n",
    "\n",
    "r = permutation_importance(best_pipe, x_test, y_test,\n",
    "                           n_repeats=20, random_state=42, n_jobs=-1)\n",
    "top = r.importances_mean.argsort()[::-1][:10]\n",
    "print(\"\\nPermutation importance (top 10):\")\n",
    "for j in top:\n",
    "    print(f\"{feature_names[j]} -> {r.importances_mean[j]:.4f}\")\n"
   ]
  },
  {
   "cell_type": "markdown",
   "id": "e5e0663e-c301-4e88-aad4-7054be274c84",
   "metadata": {},
   "source": [
    "**Blood Pressure** and **Potassium (K)** are the most influential features globally (highest permutation importance)."
   ]
  }
 ],
 "metadata": {
  "kernelspec": {
   "display_name": "Python 3 (ipykernel)",
   "language": "python",
   "name": "python3"
  },
  "language_info": {
   "codemirror_mode": {
    "name": "ipython",
    "version": 3
   },
   "file_extension": ".py",
   "mimetype": "text/x-python",
   "name": "python",
   "nbconvert_exporter": "python",
   "pygments_lexer": "ipython3",
   "version": "3.12.3"
  }
 },
 "nbformat": 4,
 "nbformat_minor": 5
}
